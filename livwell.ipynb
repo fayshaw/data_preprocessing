{
  "nbformat": 4,
  "nbformat_minor": 0,
  "metadata": {
    "colab": {
      "provenance": [],
      "toc_visible": true,
      "include_colab_link": true
    },
    "kernelspec": {
      "name": "python3",
      "display_name": "Python 3"
    },
    "language_info": {
      "name": "python"
    }
  },
  "cells": [
    {
      "cell_type": "markdown",
      "metadata": {
        "id": "view-in-github",
        "colab_type": "text"
      },
      "source": [
        "<a href=\"https://colab.research.google.com/github/fayshaw/data_preprocessing/blob/main/livwell.ipynb\" target=\"_parent\"><img src=\"https://colab.research.google.com/assets/colab-badge.svg\" alt=\"Open In Colab\"/></a>"
      ]
    },
    {
      "cell_type": "markdown",
      "source": [
        "# Data Preproccesing\n",
        "## LivWell Dataset: Women and their Well-being for 52 Countries\n",
        "### <a href=\"https://www.womenindata.org/\">Women in Data</a> and <a href=\"https://www.meetup.com/pyladies-boston/\">PyLadies Boston</a>\n",
        "#### <a href=\"https://www.linkedin.com/in/fayshaw/\">Fay Shaw</a>\n",
        "August 21, 2025\n",
        "\n",
        "Together, we will explore the LivWell dataset from the Belmin et al's 2022 Nature paper <a href=\" https://www.nature.com/articles/s41597-022-01824-2\"> LivWell: a sub-national Dataset on the Living Conditions of Women and their Well-being for 52 Countries</a>. The authors aggregated a longitudinal dataset from Demographic and Health Surveys (DHS) for subnational regions.  Much of their work is in geographic harmonization of boundaries.\n",
        "\n",
        "We will wrangle some raw data to look more like their published data set. <br>\n",
        "\n",
        "\n",
        "*Figure 1: Flowchart representing the data processing steps to obtain LivWell. Orange: input data; green: indicators based on DHS data; blue: indicators based on gridded data; white: validation data.*\n",
        "\n",
        "<img src=\"https://media.springernature.com/full/springer-static/image/art%3A10.1038%2Fs41597-022-01824-2/MediaObjects/41597_2022_1824_Fig1_HTML.png\" width=\"600\">\n",
        "\n",
        "\n",
        "\n",
        "In this notebook, we will look at some of the DHS STAT compiler data (that they used for validation) and compare it to their data output."
      ],
      "metadata": {
        "id": "b9VR_xIAJqZa"
      }
    },
    {
      "cell_type": "markdown",
      "source": [
        "# Overview\n",
        "\n",
        "1. Open LivWell data set.\n",
        "2. Look at DHS STAT Compiler raw data.\n",
        "3. Try to get the raw data into a comparable form."
      ],
      "metadata": {
        "id": "emSeWnHozKv9"
      }
    },
    {
      "cell_type": "markdown",
      "source": [
        "## Read files\n",
        "Read the published file using a url."
      ],
      "metadata": {
        "id": "ip1Tu2k4J6BA"
      }
    },
    {
      "cell_type": "code",
      "source": [
        "import pandas as pd\n",
        "livwell_df = pd.read_csv('https://zenodo.org/records/7277104/files/livwell.csv')"
      ],
      "metadata": {
        "id": "VZzYsdpBkj34"
      },
      "execution_count": null,
      "outputs": []
    },
    {
      "cell_type": "markdown",
      "source": [
        "### Explore the data\n",
        "\n",
        "<img src=\"https://scentla.com/wp-content/uploads/2025/02/Efficiently-Create-and-Fill-Pandas-DataFrames-in-Python-1024x399.jpg\" width=600>\n",
        "\n",
        "Figure from https://datagy.io/pandas-drop-index-column\n",
        "\n",
        "Resources\n",
        "* <a href=\"https://realpython.com/pandas-python-explore-dataset/\">Real Python dataframe resource</a>\n",
        "* <a href=\"https://pandas.pydata.org/Pandas_Cheat_Sheet.pdf\">PyData Pandas cheat sheet</a>\n",
        "\n",
        "DataFrame `df`\n",
        "* Show `df`\n",
        "* `df.head()`\n",
        "* `df.describe()`\n",
        "* `df.columns`\n",
        "* `df.unique()`"
      ],
      "metadata": {
        "id": "CuoRTPap_IDf"
      }
    },
    {
      "cell_type": "code",
      "source": [
        "livwell_df"
      ],
      "metadata": {
        "id": "qRFwksPl_gPD"
      },
      "execution_count": null,
      "outputs": []
    },
    {
      "cell_type": "code",
      "source": [
        "livwell_df.columns[:50]"
      ],
      "metadata": {
        "id": "NkihG7fw_MrD"
      },
      "execution_count": null,
      "outputs": []
    },
    {
      "cell_type": "code",
      "source": [
        "indicators_df = pd.read_csv(\"https://zenodo.org/records/7277104/files/indicators.csv\")\n",
        "indicators_df.head(20)"
      ],
      "metadata": {
        "id": "Ta3qBeZ1Bq4q"
      },
      "execution_count": null,
      "outputs": []
    },
    {
      "cell_type": "markdown",
      "source": [
        "Look at which countries are in this data set using the dataframe and the column name: `dataframe['column name']`"
      ],
      "metadata": {
        "id": "PqxnGYmussdu"
      }
    },
    {
      "cell_type": "code",
      "source": [
        "livwell_df['country_name'].unique()"
      ],
      "metadata": {
        "id": "Qu-eMnHWgoj9"
      },
      "execution_count": null,
      "outputs": []
    },
    {
      "cell_type": "code",
      "source": [
        "len(set(livwell_df['country_name']))"
      ],
      "metadata": {
        "id": "FoWNnIfNhBhG"
      },
      "execution_count": null,
      "outputs": []
    },
    {
      "cell_type": "markdown",
      "source": [
        "## Filter to get data for one country\n",
        "Armenia"
      ],
      "metadata": {
        "id": "KDq5pnAxiqFT"
      }
    },
    {
      "cell_type": "code",
      "source": [
        "# Boolean mask\n",
        "livwell_df['country_name'] == 'Armenia'"
      ],
      "metadata": {
        "id": "okVxcLiyvdQm"
      },
      "execution_count": null,
      "outputs": []
    },
    {
      "cell_type": "code",
      "source": [
        "livwell_armenia = livwell_df[livwell_df['country_name'] == 'Armenia']\n",
        "\n",
        "print(\"years: \" , set(livwell_armenia['year']))\n",
        "print(\"regions: \", set(livwell_armenia['region_name_harmonized']))\n",
        "livwell_armenia.head(12)"
      ],
      "metadata": {
        "id": "jSHyoEkocoqW"
      },
      "execution_count": null,
      "outputs": []
    },
    {
      "cell_type": "markdown",
      "source": [
        "### More to explore with dataframes\n",
        "pandas DataFrame: https://pandas.pydata.org/docs/reference/api/pandas.DataFrame.html\n",
        "* `df.shape`\n",
        "* `df.dtypes`\n",
        "* `df['column'].value_counts()`"
      ],
      "metadata": {
        "id": "tDJvu1XNAavo"
      }
    },
    {
      "cell_type": "markdown",
      "source": [
        "## Read raw education file\n",
        "\n",
        "Manually upload the file `STATcompilerExport_education.csv`"
      ],
      "metadata": {
        "id": "Zr0PaM9rsSBP"
      }
    },
    {
      "cell_type": "code",
      "source": [
        "from google.colab import files\n",
        "uploaded = files.upload()"
      ],
      "metadata": {
        "id": "iSngn27W3X58"
      },
      "execution_count": null,
      "outputs": []
    },
    {
      "cell_type": "markdown",
      "source": [
        "Notice that there Unnamed column titles at the top along with NaN rows at the top and bottom"
      ],
      "metadata": {
        "id": "HGUyeHloUxAr"
      }
    },
    {
      "cell_type": "code",
      "source": [
        "education = pd.read_csv(\"STATcompilerExport_education.csv\")\n",
        "education"
      ],
      "metadata": {
        "id": "Hs-OBddErtDn"
      },
      "execution_count": null,
      "outputs": []
    },
    {
      "cell_type": "markdown",
      "source": [
        "How many rows are null?  Can we safely skip them?"
      ],
      "metadata": {
        "id": "_xTVo7eejasb"
      }
    },
    {
      "cell_type": "code",
      "source": [
        "education.iloc[0].isnull().sum()"
      ],
      "metadata": {
        "id": "Tb_ITGUvjILU"
      },
      "execution_count": null,
      "outputs": []
    },
    {
      "cell_type": "code",
      "source": [
        "education.tail(12)"
      ],
      "metadata": {
        "id": "4lsJeIFQjm-S"
      },
      "execution_count": null,
      "outputs": []
    },
    {
      "cell_type": "markdown",
      "source": [
        "Read the file by skipping the top NaN rows and bottom rows"
      ],
      "metadata": {
        "id": "5us-hY3nVAjP"
      }
    },
    {
      "cell_type": "code",
      "source": [
        "stat_education = pd.read_csv('STATcompilerExport_education.csv', skiprows=3, skipfooter=11, engine='python')\n",
        "stat_education"
      ],
      "metadata": {
        "id": "b9_239Jxp-B_"
      },
      "execution_count": null,
      "outputs": []
    },
    {
      "cell_type": "code",
      "source": [
        "set(stat_education['Country'])"
      ],
      "metadata": {
        "id": "wXM1zlsbVp9I"
      },
      "execution_count": null,
      "outputs": []
    },
    {
      "cell_type": "code",
      "source": [
        "len(set(stat_education['Country']))"
      ],
      "metadata": {
        "id": "XINH9176njEv"
      },
      "execution_count": null,
      "outputs": []
    },
    {
      "cell_type": "markdown",
      "source": [
        "### One country example\n",
        "\n",
        "* Get data for just Armenia\n",
        "* Make a deep `.copy()` so you are not operating on a view and avoid the <a href=\"https://realpython.com/pandas-settingwithcopywarning/\">`SettingWithCopyWarning`</a>"
      ],
      "metadata": {
        "id": "3QzcOaKXk7vx"
      }
    },
    {
      "cell_type": "code",
      "source": [
        "stat_education_armenia = stat_education[stat_education['Country'] == 'Armenia'].copy()\n",
        "stat_education_armenia.head(15)"
      ],
      "metadata": {
        "id": "THy3gn3gdwMI"
      },
      "execution_count": null,
      "outputs": []
    },
    {
      "cell_type": "code",
      "source": [
        "stat_education_armenia.columns"
      ],
      "metadata": {
        "id": "ant_8vXkf2d4"
      },
      "execution_count": null,
      "outputs": []
    },
    {
      "cell_type": "markdown",
      "source": [
        "Rename one column"
      ],
      "metadata": {
        "id": "5Z6LOrknkthK"
      }
    },
    {
      "cell_type": "markdown",
      "source": [
        "### Get the survey years"
      ],
      "metadata": {
        "id": "AtefYHtolRd8"
      }
    },
    {
      "cell_type": "code",
      "source": [
        "set(stat_education_armenia['Survey'])"
      ],
      "metadata": {
        "id": "nwltNiiVs2zH"
      },
      "execution_count": null,
      "outputs": []
    },
    {
      "cell_type": "markdown",
      "source": [
        "Split the survey year text on the space `' '` to get the year. Make two new columns `year_text` and `source` that appear at the right side.\n",
        "\n"
      ],
      "metadata": {
        "id": "Nqy_w52-W-Vv"
      }
    },
    {
      "cell_type": "code",
      "source": [
        "stat_education_armenia[['year','source']] = stat_education_armenia.loc[:, 'Survey'].str.split(expand=True)\n",
        "stat_education_armenia.head(15)"
      ],
      "metadata": {
        "id": "6bI8dCiYuH9h"
      },
      "execution_count": null,
      "outputs": []
    },
    {
      "cell_type": "markdown",
      "source": [
        "### Rename the year text 2015-16 to 2016."
      ],
      "metadata": {
        "id": "EX2yzpcJlmFe"
      }
    },
    {
      "cell_type": "code",
      "source": [
        "stat_education_armenia['year'] = stat_education_armenia['year'].replace('2015-16', '2016')\n",
        "stat_education_armenia.head()"
      ],
      "metadata": {
        "id": "q03YmufTqRJD"
      },
      "execution_count": null,
      "outputs": []
    },
    {
      "cell_type": "markdown",
      "source": [
        "Similarly, split the region using by the colin \" : \""
      ],
      "metadata": {
        "id": "rSVmiV_BlxC9"
      }
    },
    {
      "cell_type": "code",
      "source": [
        "stat_education_armenia['region'] = stat_education_armenia.loc[:, 'Characteristic'].str.split(\" : \").str[1]\n",
        "stat_education_armenia.head()"
      ],
      "metadata": {
        "id": "0oBBbKwdwRp3"
      },
      "execution_count": null,
      "outputs": []
    },
    {
      "cell_type": "code",
      "source": [
        "# Drop rows that are not regions\n",
        "stat_education_armenia = stat_education_armenia[~stat_education_armenia['Characteristic'].str.contains('Total')]\n",
        "stat_education_armenia.head()"
      ],
      "metadata": {
        "id": "GI_YJ2LKmRwt"
      },
      "execution_count": null,
      "outputs": []
    },
    {
      "cell_type": "code",
      "source": [
        "stat_ed_armenia = stat_education_armenia.drop(columns=['Survey', 'Characteristic'])\n",
        "stat_ed_armenia.head()"
      ],
      "metadata": {
        "id": "ziqbKtWcnVKX"
      },
      "execution_count": null,
      "outputs": []
    },
    {
      "cell_type": "code",
      "source": [
        "# Rename education columns\n",
        "rename_ed_cols ={\n",
        "    'Women with no education' : 'ED_attainment_no_educ_p',\n",
        "    'Women with completed primary education' : 'ED_attainment_primary_completed_p',\n",
        "    'Women with completed secondary education' : 'ED_attainment_secondary_completed_p',\n",
        "    'Women with more than secondary education' : 'ED_attainment_secondary_higher_p',\n",
        "    'Women with primary education' : 'ED_attainment_primary_p',\n",
        "    'Women with secondary or higher education' : 'ED_attainment_secondary_higher_p',\n",
        "    'Median years of education completed [Women]' : 'ED_educ_years_median'\n",
        "}"
      ],
      "metadata": {
        "id": "QkdYP5Fxn_du"
      },
      "execution_count": null,
      "outputs": []
    },
    {
      "cell_type": "code",
      "source": [
        "stat_ed_armenia = stat_ed_armenia.rename(columns=rename_ed_cols)\n",
        "stat_ed_armenia.head()"
      ],
      "metadata": {
        "id": "XMYIDar0n_m-"
      },
      "execution_count": null,
      "outputs": []
    },
    {
      "cell_type": "markdown",
      "source": [
        "### Choose and reorder columns"
      ],
      "metadata": {
        "id": "zHISXBB5hpcv"
      }
    },
    {
      "cell_type": "code",
      "source": [
        "stat_ed_armenia_df = stat_ed_armenia[['Country', 'source', 'year', 'region', 'ED_educ_years_median', 'ED_attainment_secondary_completed_p']]\n",
        "stat_ed_armenia_df"
      ],
      "metadata": {
        "id": "zmUBHxVuhJvd"
      },
      "execution_count": null,
      "outputs": []
    },
    {
      "cell_type": "markdown",
      "source": [
        "### LivWell Aremnia education columns"
      ],
      "metadata": {
        "id": "CHWBGQkF0a63"
      }
    },
    {
      "cell_type": "code",
      "source": [
        "lw_ed_cols = livwell_armenia.columns[livwell_armenia.columns.str.contains('ED')].to_list()\n",
        "lw_ed_cols"
      ],
      "metadata": {
        "id": "-ZN_n-qfxLXW"
      },
      "execution_count": null,
      "outputs": []
    },
    {
      "cell_type": "code",
      "source": [
        "# Get year and country data\n",
        "livwell_df.columns[:8].to_list()"
      ],
      "metadata": {
        "id": "vfXh6LcofJda"
      },
      "execution_count": null,
      "outputs": []
    },
    {
      "cell_type": "code",
      "source": [
        "# Columns of interest in the LivWell data set\n",
        "lw_year_ed_cols = livwell_df.columns[:8].to_list() + lw_ed_cols\n",
        "lw_year_ed_cols"
      ],
      "metadata": {
        "id": "_aVzsRqge-Dl"
      },
      "execution_count": null,
      "outputs": []
    },
    {
      "cell_type": "code",
      "source": [
        "lw_ed_arm = livwell_armenia[lw_year_ed_cols]\n",
        "lw_ed_arm.head()"
      ],
      "metadata": {
        "id": "TYWjP4LvZhy7"
      },
      "execution_count": null,
      "outputs": []
    },
    {
      "cell_type": "code",
      "source": [
        "stat_ed_armenia.head()"
      ],
      "metadata": {
        "id": "fk26gxur0Zyb"
      },
      "execution_count": null,
      "outputs": []
    },
    {
      "cell_type": "code",
      "source": [
        "stat_ed_armenia.columns"
      ],
      "metadata": {
        "id": "w_zWolHf2is7"
      },
      "execution_count": null,
      "outputs": []
    },
    {
      "cell_type": "code",
      "source": [
        "rename_cols = {'Median years of education completed [Women]' : 'ED_educ_years_median'}\n",
        "\n",
        "stat_ed_armenia_renamed = stat_ed_armenia.rename(columns=rename_cols)\n",
        "\n",
        "cols_reorder = ['Country', 'year', 'source', 'region',\t'ED_attainment_no_educ_p',\n",
        "                'ED_attainment_primary_p',\t'ED_attainment_primary_completed_p',\n",
        "                'ED_attainment_secondary_higher_p', 'ED_attainment_primary_p',\n",
        "                'ED_attainment_secondary_completed_p', 'ED_educ_years_median',\n",
        "                'Women who can read a whole sentence','Women who are literate']\n",
        "stat_ed_armenia_renamed = stat_ed_armenia_renamed[cols_reorder]\n",
        "stat_ed_armenia_renamed.head(12)"
      ],
      "metadata": {
        "id": "LlzZGf4OzZkq"
      },
      "execution_count": null,
      "outputs": []
    },
    {
      "cell_type": "markdown",
      "source": [
        "## Get data in the same format to merge on year and region."
      ],
      "metadata": {
        "id": "5KWJI-CD-pgJ"
      }
    },
    {
      "cell_type": "code",
      "source": [
        "stat_ed_armenia_renamed.columns"
      ],
      "metadata": {
        "id": "uT7GDuik4bUT"
      },
      "execution_count": null,
      "outputs": []
    },
    {
      "cell_type": "code",
      "source": [
        "lw_ed_arm.columns"
      ],
      "metadata": {
        "id": "Oa9Ic2aM4eiT"
      },
      "execution_count": null,
      "outputs": []
    },
    {
      "cell_type": "code",
      "source": [
        "stat_ed_armenia_renamed['year'].dtypes"
      ],
      "metadata": {
        "id": "7mQmp5-H4xBZ"
      },
      "execution_count": null,
      "outputs": []
    },
    {
      "cell_type": "code",
      "source": [
        "stat_ed_armenia_renamed['year'] = stat_ed_armenia['year'].astype(int)\n",
        "stat_ed_armenia_renamed['year'].dtype"
      ],
      "metadata": {
        "id": "EEGTu5lI5B_9"
      },
      "execution_count": null,
      "outputs": []
    },
    {
      "cell_type": "code",
      "source": [
        "lw_ed_arm['year'].dtypes\n",
        "lw_ed_arm['year'] = lw_ed_arm['year'].astype(int)"
      ],
      "metadata": {
        "id": "82GCaGOS4311"
      },
      "execution_count": null,
      "outputs": []
    },
    {
      "cell_type": "code",
      "source": [
        "merged_df = stat_ed_armenia_renamed.merge(lw_ed_arm, left_on=['region', 'year'],\n",
        "            right_on=['region_name_harmonized', 'year'],\n",
        "            suffixes=('_stat', '_lw'))\n",
        "\n",
        "merged_df.columns"
      ],
      "metadata": {
        "id": "9SqrA7yx2IW7"
      },
      "execution_count": null,
      "outputs": []
    },
    {
      "cell_type": "markdown",
      "source": [
        "And hopefully they match!"
      ],
      "metadata": {
        "id": "FYoMjdXN-xAj"
      }
    },
    {
      "cell_type": "code",
      "source": [
        "merged_df[['year', 'region', 'ED_educ_years_mean', 'ED_educ_years_median',\n",
        "           'ED_attainment_secondary_completed_p_lw', 'ED_attainment_secondary_completed_p_stat',\n",
        "           'ED_attainment_secondary_higher_p_lw', 'ED_attainment_secondary_higher_p_stat']]\n",
        "#           'ED_attainment_secondary_higher_p_se', 'ED_attainment_secondary_higher_p_se_lw']]"
      ],
      "metadata": {
        "id": "__Ou8e5T61uG"
      },
      "execution_count": null,
      "outputs": []
    },
    {
      "cell_type": "markdown",
      "source": [
        "## Second data source: Global Data Lab Mean International Wealth Index\n",
        "We will clean it and join it to the education data"
      ],
      "metadata": {
        "id": "x715ttFdzxZb"
      }
    },
    {
      "cell_type": "code",
      "source": [
        "uploaded = files.upload()"
      ],
      "metadata": {
        "id": "K6XJOvaio9wA"
      },
      "execution_count": null,
      "outputs": []
    },
    {
      "cell_type": "code",
      "source": [
        "gdl = pd.read_csv(\"GDL-Mean-International-Wealth-Index-(IWI)-score-of-region-data.csv\")\n",
        "gdl"
      ],
      "metadata": {
        "id": "51Sq7kUE4ZtP"
      },
      "execution_count": null,
      "outputs": []
    },
    {
      "cell_type": "code",
      "source": [
        "armenia_gdl = gdl[gdl['Country'] == \"Armenia\"]\n",
        "armenia_gdl"
      ],
      "metadata": {
        "id": "5otgAO8vxd5j"
      },
      "execution_count": null,
      "outputs": []
    },
    {
      "cell_type": "code",
      "source": [
        "armenia_gdl.notna()"
      ],
      "metadata": {
        "id": "bPEubVaeOozu"
      },
      "execution_count": null,
      "outputs": []
    },
    {
      "cell_type": "code",
      "source": [
        "armenia_gdl[~armenia_gdl.notnull()]"
      ],
      "metadata": {
        "id": "uWStZowrOgWD"
      },
      "execution_count": null,
      "outputs": []
    },
    {
      "cell_type": "code",
      "source": [
        "armenia_gdl = armenia_gdl[['Country', 'ISO_Code', 'GDLCODE',\t'Region', '2000', '2010', '2016']]"
      ],
      "metadata": {
        "id": "hOavqgtHpHMG"
      },
      "execution_count": null,
      "outputs": []
    },
    {
      "cell_type": "markdown",
      "source": [
        "### DataFrame melt\n",
        "\n",
        "One reason to melt a dataframe from wide to long is that it may be easier to plot.  We will melt our dataframe and then create a scatter plot.\n",
        "\n",
        "<img src=\"https://pandas.pydata.org/pandas-docs/version/0.25.1/_images/reshaping_melt.png\" width=800>\n",
        "\n",
        "Figure from [pandas.pydata.org](https://pandas.pydata.org/pandas-docs/version/0.25.1/user_guide/reshaping.html#reshaping-by-melt)"
      ],
      "metadata": {
        "id": "0WjLm0kdRaHH"
      }
    },
    {
      "cell_type": "code",
      "source": [
        "# TODO: remove Total from Region\n",
        "armenia_gdl_melt = armenia_gdl.melt(id_vars=['Country', 'ISO_Code','GDLCODE', 'Region'], var_name='Year', value_name='IWI')\n",
        "armenia_gdl_melt"
      ],
      "metadata": {
        "id": "FdgcUQ4B2_qj"
      },
      "execution_count": null,
      "outputs": []
    },
    {
      "cell_type": "markdown",
      "source": [],
      "metadata": {
        "id": "KgNvsy2j3O3d"
      }
    },
    {
      "cell_type": "code",
      "source": [
        "gdl = pd.read_csv(\"GDL-Mean-International-Wealth-Index-(IWI)-score-of-region-data.csv\")\n",
        "armenia_gdl = gdl[gdl['Country'] == 'Armenia']\n",
        "armenia_gdl"
      ],
      "metadata": {
        "id": "8n2fB5tc09xu"
      },
      "execution_count": null,
      "outputs": []
    },
    {
      "cell_type": "markdown",
      "source": [
        "Find the columns that are numbers."
      ],
      "metadata": {
        "id": "OTcaVT7CcN1A"
      }
    },
    {
      "cell_type": "code",
      "source": [
        "gdl_year_cols = [x for x in gdl.columns if str.isdigit(x)]\n",
        "gdl_year_cols"
      ],
      "metadata": {
        "id": "ZWm-KKht322W"
      },
      "execution_count": null,
      "outputs": []
    },
    {
      "cell_type": "code",
      "source": [
        "gdl_data = gdl[['Country', 'GDLCODE', 'Region'] + gdl_year_cols]\n",
        "gdl_data"
      ],
      "metadata": {
        "id": "KAmtBL3G7ATn"
      },
      "execution_count": null,
      "outputs": []
    },
    {
      "cell_type": "code",
      "source": [
        "gdl_data = gdl[['Country', 'GDLCODE'] + gdl_year_cols]\n",
        "gdl_data"
      ],
      "metadata": {
        "id": "NOA_qaK23MoB"
      },
      "execution_count": null,
      "outputs": []
    },
    {
      "cell_type": "code",
      "source": [
        "gdl_melt = gdl.melt(id_vars=['Country', 'ISO_Code','GDLCODE', 'Region'], var_name='Year', value_name='IWI')\n",
        "gdl_melt"
      ],
      "metadata": {
        "id": "hYdvaPCI3YN8"
      },
      "execution_count": null,
      "outputs": []
    },
    {
      "cell_type": "markdown",
      "source": [
        "### Filter the data for plotting\n",
        "Choose to include only include regional data. Drop data that has the string 'Level' in the Year column"
      ],
      "metadata": {
        "id": "GrVunjSNcDyu"
      }
    },
    {
      "cell_type": "code",
      "source": [
        "gdl_region = gdl_melt.drop(columns='Region')\n",
        "gdl_region = gdl_region[~((gdl_region['Year'] == 'Level') | (gdl_region['IWI'] == 'National'))]\n",
        "gdl_region"
      ],
      "metadata": {
        "id": "ZH3FMmOm7w1q"
      },
      "execution_count": null,
      "outputs": []
    },
    {
      "cell_type": "markdown",
      "source": [
        "# Data visualization\n",
        "Plot a subset of countries"
      ],
      "metadata": {
        "id": "lSN1Ra5PVjIK"
      }
    },
    {
      "cell_type": "code",
      "source": [
        "livwell_gdl_subset = ['Armenia', 'Burundi', 'Cambodia', 'Dominican Republic', 'El Salvador',\n",
        "                      'Fiji', 'Gabon', 'Haiti', 'Tanzania', 'Turkey', 'Yemen', 'Zimbabwe']\n",
        "livwell_gdl_countries = set(livwell_df['country_name']) & set(gdl_melt['Country'])\n",
        "\n",
        "print(\"Countries in LivWell and GDL datasets: \", len(livwell_gdl_countries))\n",
        "print(\"Number of subset countries: \", len(livwell_gdl_subset))"
      ],
      "metadata": {
        "id": "-I2iPEwUTrgk"
      },
      "execution_count": null,
      "outputs": []
    },
    {
      "cell_type": "markdown",
      "source": [
        "#### Pick countries where data is available.\n",
        "Find data that has good coverage for years.  Here, I checked for data in 1992 that has a value for the International Weath Index (IWI)."
      ],
      "metadata": {
        "id": "j2d1NRuTWLmI"
      }
    },
    {
      "cell_type": "code",
      "source": [
        "gdl_region[(gdl_region['Year'] == '1992') & (gdl_region['IWI'].notna())]\n",
        "print(gdl_region.head(10))\n",
        "\n",
        "livwell_gdl = gdl_region[gdl_region['Country'].isin(livwell_gdl_subset)]"
      ],
      "metadata": {
        "id": "AkWq9oLoVyEq"
      },
      "execution_count": null,
      "outputs": []
    },
    {
      "cell_type": "markdown",
      "source": [
        "Check to see if the country is in the country subset list and create a scatter plot of the IWI by year and colored by country."
      ],
      "metadata": {
        "id": "FrnYc2k2bnvW"
      }
    },
    {
      "cell_type": "code",
      "source": [
        "import plotly.express as px\n",
        "\n",
        "fig = px.scatter(livwell_gdl, x=\"Year\", y=\"IWI\", color=\"Country\")\n",
        "fig.show()"
      ],
      "metadata": {
        "id": "Hj2QM_JeYhKK"
      },
      "execution_count": null,
      "outputs": []
    },
    {
      "cell_type": "code",
      "source": [
        "gdl_subset = ['Armenia', 'Burundi', 'Cambodia', 'Dominican Republic', 'El Salvador',\n",
        "              'Fiji', 'Gabon', 'Haiti', 'Tanzania', 'Turkey', 'Yemen', 'Zimbabwe']\n",
        "gdl_subset_data = gdl_region[gdl_region['Country'].isin(livwell_gdl_subset)]\n",
        "fig = px.scatter(gdl_subset_data, x=\"Year\", y=\"IWI\", color=\"Country\")\n",
        "fig.show()"
      ],
      "metadata": {
        "id": "pz-oTyEFq3JX"
      },
      "execution_count": null,
      "outputs": []
    },
    {
      "cell_type": "code",
      "source": [
        "gdl_subset_data"
      ],
      "metadata": {
        "id": "GNuLVrMTtqXP"
      },
      "execution_count": null,
      "outputs": []
    },
    {
      "cell_type": "code",
      "source": [],
      "metadata": {
        "id": "dHqhj5m-ttYa"
      },
      "execution_count": null,
      "outputs": []
    },
    {
      "cell_type": "markdown",
      "source": [
        "# More to explore\n",
        "\n",
        "The authors incorporated many  approaches in their work including:\n",
        "\n",
        "* Analysis in R.  Check out their <a href=\"https://gitlab.pik-potsdam.de/belmin/livwelldata\">LivWell R repository</a>. They linearly interpolated data using the R package `imputeTS`.\n",
        "* Collapsed categories for modern and traditional cooking fuel:\n",
        "  * Modern: electricity, liquefied\n",
        "petroleum gas, natural gas, kerosene and biogas\n",
        "  * Traditional: biomass (firewood, charcoal, agricultural crops, coal)\n",
        "  * This could also be described as recoding, label encoding or feature engineering\n",
        "* Recoded drinking water quality to low, medium, high quality.  \n",
        "* Geographic data. The authors harmonized variables over time and across countries.  "
      ],
      "metadata": {
        "id": "dlacQpIe3QH5"
      }
    }
  ]
}