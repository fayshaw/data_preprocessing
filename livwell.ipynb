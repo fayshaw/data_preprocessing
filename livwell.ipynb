{
  "nbformat": 4,
  "nbformat_minor": 0,
  "metadata": {
    "colab": {
      "provenance": [],
      "toc_visible": true,
      "include_colab_link": true
    },
    "kernelspec": {
      "name": "python3",
      "display_name": "Python 3"
    },
    "language_info": {
      "name": "python"
    }
  },
  "cells": [
    {
      "cell_type": "markdown",
      "metadata": {
        "id": "view-in-github",
        "colab_type": "text"
      },
      "source": [
        "<a href=\"https://colab.research.google.com/github/fayshaw/data_preprocessing/blob/main/livwell.ipynb\" target=\"_parent\"><img src=\"https://colab.research.google.com/assets/colab-badge.svg\" alt=\"Open In Colab\"/></a>"
      ]
    },
    {
      "cell_type": "markdown",
      "source": [
        "# Data Preproccesing Best Practices\n",
        "\n",
        "## LivWell Dataset: Women and their Well-being for 52 Countries\n",
        "\n",
        "###<a href=\"https://www.womenindata.org/\">Women in Data Boston</a> and <a href=\"https://www.meetup.com/pyladies-boston/\">PyLadies Boston</a>\n",
        "#### <a href=\"https://www.linkedin.com/in/fayshaw/\">Fay Shaw</a>\n",
        "August 21, 2025\n",
        "\n",
        "Together, we will explore the LivWell dataset from the Belmin et al's 2022 Nature paper <a href=\" https://www.nature.com/articles/s41597-022-01824-2\"> LivWell: a sub-national Dataset on the Living Conditions of Women and their Well-being for 52 Countries</a>. The authors constructed a longitudinal dataset using Demographic and Health Surveys (DHS), GDP data, and climate data for subnational regions for 1990 - 2019.\n",
        "\n",
        "*Figure 1: Flowchart representing the data processing steps to obtain LivWell. Orange: input data; green: indicators based on DHS data; blue: indicators based on gridded data; white: validation data.*\n",
        "\n",
        "<img src=\"https://media.springernature.com/full/springer-static/image/art%3A10.1038%2Fs41597-022-01824-2/MediaObjects/41597_2022_1824_Fig1_HTML.png\" width=\"600\">\n",
        "\n",
        "\n",
        "In this notebook, we will look at some of the DHS STAT data compare it to their data output.\n",
        "\n",
        "🚩 <a href=\"https://github.com/fayshaw/data_preprocessing\">Github repository</a>\n",
        "\n"
      ],
      "metadata": {
        "id": "b9VR_xIAJqZa"
      }
    },
    {
      "cell_type": "markdown",
      "source": [
        "# 🎯 Goals for this session\n",
        "1. Learn the context of the data.\n",
        "2. Transform raw dataset to compare to LivWell\n",
        "3. Visualize data.\n",
        "\n",
        "\n",
        "# Files\n",
        "1. Load LivWell dataset using urls: `livwell.csv` and `indicators.csv`\n",
        "2. Load DHS STAT raw data: `STATcompilerExport_decision_power.csv`\n",
        "3. Load global wealth indicators: `GDL-Mean-International-Wealth-Index-(IWI)-score-of-region-data.csv`\n",
        "\n",
        "Both the DHS STAT and Global Mean data are found in the authors' <a href=\"https://gitlab.pik-potsdam.de/belmin/livwelldata-paper/-/tree/main/analysis/data/raw_data/validation_data?ref_type=heads\"> validation data folder</a> on gitlab."
      ],
      "metadata": {
        "id": "emSeWnHozKv9"
      }
    },
    {
      "cell_type": "markdown",
      "source": [
        "# 💡 1. Learn the context by exploring the data\n",
        "\n",
        "## Read files\n",
        "The first thing to do is to look at the the LivWell data.  We can open it in Excel and read in the file using pandas."
      ],
      "metadata": {
        "id": "ip1Tu2k4J6BA"
      }
    },
    {
      "cell_type": "code",
      "source": [
        "import pandas as pd\n",
        "livwell_df = pd.read_csv('https://zenodo.org/records/7277104/files/livwell.csv')"
      ],
      "metadata": {
        "id": "VZzYsdpBkj34"
      },
      "execution_count": null,
      "outputs": []
    },
    {
      "cell_type": "markdown",
      "source": [
        "### Explore the data\n",
        "\n",
        "<img src=\"https://scentla.com/wp-content/uploads/2025/02/Efficiently-Create-and-Fill-Pandas-DataFrames-in-Python-1024x399.jpg\" width=600>\n",
        "\n",
        "Figure from https://datagy.io/pandas-drop-index-column\n",
        "\n",
        "Resources\n",
        "* <a href=\"https://realpython.com/pandas-python-explore-dataset/\">Real Python dataframe resource</a>\n",
        "* <a href=\"https://pandas.pydata.org/Pandas_Cheat_Sheet.pdf\">PyData Pandas cheat sheet</a>\n",
        "\n",
        "DataFrame `df`\n",
        "* Show `df`\n",
        "* `df.head()`\n",
        "* `df.describe()`\n",
        "* `df.columns`\n",
        "* `df.unique()`"
      ],
      "metadata": {
        "id": "CuoRTPap_IDf"
      }
    },
    {
      "cell_type": "code",
      "source": [
        "livwell_df"
      ],
      "metadata": {
        "id": "qRFwksPl_gPD"
      },
      "execution_count": null,
      "outputs": []
    },
    {
      "cell_type": "code",
      "source": [
        "livwell_df.columns"
      ],
      "metadata": {
        "id": "NkihG7fw_MrD"
      },
      "execution_count": null,
      "outputs": []
    },
    {
      "cell_type": "code",
      "source": [
        "indicators_df = pd.read_csv(\"https://zenodo.org/records/7277104/files/indicators.csv\")\n",
        "indicators_df"
      ],
      "metadata": {
        "id": "Ta3qBeZ1Bq4q"
      },
      "execution_count": null,
      "outputs": []
    },
    {
      "cell_type": "markdown",
      "source": [
        "Look at one column of data using the dataframe `df` and the column name `col`: `df['col']`.  You can use `set()` to find the set of values."
      ],
      "metadata": {
        "id": "PqxnGYmussdu"
      }
    },
    {
      "cell_type": "code",
      "source": [
        "set(indicators_df['indicator_category'])"
      ],
      "metadata": {
        "id": "V0KUOZStVM35"
      },
      "execution_count": null,
      "outputs": []
    },
    {
      "cell_type": "code",
      "source": [
        "# Find unique countries\n",
        "livwell_df['country_name'].unique()"
      ],
      "metadata": {
        "id": "Qu-eMnHWgoj9"
      },
      "execution_count": null,
      "outputs": []
    },
    {
      "cell_type": "code",
      "source": [
        "# The length of the set of\n",
        "len(livwell_df['country_name'].unique())"
      ],
      "metadata": {
        "id": "FoWNnIfNhBhG"
      },
      "execution_count": null,
      "outputs": []
    },
    {
      "cell_type": "markdown",
      "source": [
        "## Filter to get data for one country\n"
      ],
      "metadata": {
        "id": "KDq5pnAxiqFT"
      }
    },
    {
      "cell_type": "code",
      "source": [
        "# Choose one column and check if the value is Armenia.\n",
        "livwell_df['country_name'] == 'Armenia'"
      ],
      "metadata": {
        "id": "okVxcLiyvdQm"
      },
      "execution_count": null,
      "outputs": []
    },
    {
      "cell_type": "code",
      "source": [
        "# Create a new dataframe livwell_armenia for that country\n",
        "livwell_armenia = livwell_df[livwell_df['country_name'] == 'Armenia']\n",
        "\n",
        "# Years with survey data\n",
        "print(\"years: \" , set(livwell_armenia['year']))\n",
        "\n",
        "# Regions in Armenia\n",
        "print(\"regions: \", set(livwell_armenia['region_name_harmonized']))\n",
        "livwell_armenia.head(12)"
      ],
      "metadata": {
        "id": "jSHyoEkocoqW"
      },
      "execution_count": null,
      "outputs": []
    },
    {
      "cell_type": "markdown",
      "source": [
        "## 🔎 More to explore with dataframes\n",
        "pandas DataFrame: https://pandas.pydata.org/docs/reference/api/pandas.DataFrame.html\n",
        "* `df.shape`\n",
        "* `df.dtypes`\n",
        "* `df['column'].value_counts()`"
      ],
      "metadata": {
        "id": "tDJvu1XNAavo"
      }
    },
    {
      "cell_type": "markdown",
      "source": [
        "# 🚀 2. Transform raw dataset to compare to LivWell"
      ],
      "metadata": {
        "id": "Zr0PaM9rsSBP"
      }
    },
    {
      "cell_type": "markdown",
      "source": [
        "## Read STAT file\n",
        "\n",
        "Manually upload the file `STATcompilerExport_decision_power.csv`"
      ],
      "metadata": {
        "id": "TXZAh7jGcPme"
      }
    },
    {
      "cell_type": "code",
      "source": [
        "from google.colab import files\n",
        "uploaded = files.upload()"
      ],
      "metadata": {
        "id": "iSngn27W3X58"
      },
      "execution_count": null,
      "outputs": []
    },
    {
      "cell_type": "markdown",
      "source": [
        "🔎 Notice that there `Unnamed` column names at the top along with NaN rows at the top and bottom"
      ],
      "metadata": {
        "id": "HGUyeHloUxAr"
      }
    },
    {
      "cell_type": "code",
      "source": [
        "stat_power = pd.read_csv(\"STATcompilerExport_decision_power.csv\")\n",
        "stat_power"
      ],
      "metadata": {
        "id": "Hs-OBddErtDn"
      },
      "execution_count": null,
      "outputs": []
    },
    {
      "cell_type": "markdown",
      "source": [
        "🤔 How many rows are null?  Can we safely skip them?\n",
        "\n",
        "* Top 2 rows are null and we want the third row to be for titles.\n",
        "* Bottom rows are not regional data."
      ],
      "metadata": {
        "id": "_xTVo7eejasb"
      }
    },
    {
      "cell_type": "code",
      "source": [
        "stat_power.iloc[0].isnull().sum()"
      ],
      "metadata": {
        "id": "Tb_ITGUvjILU"
      },
      "execution_count": null,
      "outputs": []
    },
    {
      "cell_type": "code",
      "source": [
        "# Check out the tail end.  Rows 714-727 are not regional data.\n",
        "stat_power.tail(15)"
      ],
      "metadata": {
        "id": "4lsJeIFQjm-S"
      },
      "execution_count": null,
      "outputs": []
    },
    {
      "cell_type": "code",
      "source": [
        "# Read the file again by skipping the top NaN rows and bottom rows\n",
        "stat_power = pd.read_csv('STATcompilerExport_decision_power.csv', skiprows=3, skipfooter=14, engine='python')\n",
        "stat_power"
      ],
      "metadata": {
        "id": "b9_239Jxp-B_"
      },
      "execution_count": null,
      "outputs": []
    },
    {
      "cell_type": "code",
      "source": [
        "set(stat_power['Country'])"
      ],
      "metadata": {
        "id": "wXM1zlsbVp9I"
      },
      "execution_count": null,
      "outputs": []
    },
    {
      "cell_type": "code",
      "source": [
        "# Look at the length of this list\n",
        "len(set(stat_power['Country']))"
      ],
      "metadata": {
        "id": "XINH9176njEv"
      },
      "execution_count": null,
      "outputs": []
    },
    {
      "cell_type": "markdown",
      "source": [
        "## One country example\n",
        "\n",
        "* Get data for just Armenia\n",
        "* Make a deep `.copy()` so you are not operating on a view and avoid the <a href=\"https://realpython.com/pandas-settingwithcopywarning/\">`SettingWithCopyWarning`</a>"
      ],
      "metadata": {
        "id": "3QzcOaKXk7vx"
      }
    },
    {
      "cell_type": "code",
      "source": [
        "stat_armenia_power = stat_power[stat_power['Country'] == 'Armenia'].copy()\n",
        "stat_armenia_power.head(15)"
      ],
      "metadata": {
        "id": "THy3gn3gdwMI"
      },
      "execution_count": null,
      "outputs": []
    },
    {
      "cell_type": "code",
      "source": [
        "stat_armenia_power.columns"
      ],
      "metadata": {
        "id": "ant_8vXkf2d4"
      },
      "execution_count": null,
      "outputs": []
    },
    {
      "cell_type": "markdown",
      "source": [
        "## 🦋 Transform data step by step\n",
        "Find columns that could be in a more useful format."
      ],
      "metadata": {
        "id": "cwbBIl_nchQP"
      }
    },
    {
      "cell_type": "markdown",
      "source": [
        "### Get the survey years\n",
        "Take out the space between the year and the survey name."
      ],
      "metadata": {
        "id": "AtefYHtolRd8"
      }
    },
    {
      "cell_type": "code",
      "source": [
        "set(stat_armenia_power['Survey'])"
      ],
      "metadata": {
        "id": "nwltNiiVs2zH"
      },
      "execution_count": null,
      "outputs": []
    },
    {
      "cell_type": "code",
      "source": [
        "# Split the survey year text on the space ' ' to get the year.\n",
        "# Make two new columns 'year_text' and 'source' that appear at the right side.\n",
        "stat_armenia_power[['year','source']] = stat_armenia_power.loc[:, 'Survey'].str.split(expand=True)\n",
        "stat_armenia_power.head(15)"
      ],
      "metadata": {
        "id": "6bI8dCiYuH9h"
      },
      "execution_count": null,
      "outputs": []
    },
    {
      "cell_type": "code",
      "source": [
        "### Rename the year text 2015-16 to 2016.\n",
        "stat_armenia_power['year'] = stat_armenia_power['year'].replace('2015-16', '2016')\n",
        "stat_armenia_power.head()"
      ],
      "metadata": {
        "id": "q03YmufTqRJD"
      },
      "execution_count": null,
      "outputs": []
    },
    {
      "cell_type": "code",
      "source": [
        "# Similarly, split the region using by the colin \" : \"\n",
        "stat_armenia_power['region'] = stat_armenia_power.loc[:, 'Characteristic'].str.split(\" : \").str[1]\n",
        "stat_armenia_power.head()"
      ],
      "metadata": {
        "id": "0oBBbKwdwRp3"
      },
      "execution_count": null,
      "outputs": []
    },
    {
      "cell_type": "markdown",
      "source": [
        "### Drop rows that are not regions\n",
        "📌 Tip: I like to name new dataframes when I've done significant operations like dropping rows.  This avoids errors if I re-run cells."
      ],
      "metadata": {
        "id": "S8f5xRdhdIt-"
      }
    },
    {
      "cell_type": "code",
      "source": [
        "# Drop rows that are not regions\n",
        "stat_armenia_power = stat_armenia_power[~stat_armenia_power['Characteristic'].str.contains('Total')]\n",
        "stat_armenia_power.head()"
      ],
      "metadata": {
        "id": "GI_YJ2LKmRwt"
      },
      "execution_count": null,
      "outputs": []
    },
    {
      "cell_type": "code",
      "source": [
        "# Rename dataframe\n",
        "stat_armenia_pow = stat_armenia_power.drop(columns=['Survey', 'Characteristic'])\n",
        "stat_armenia_pow.head()"
      ],
      "metadata": {
        "id": "ziqbKtWcnVKX"
      },
      "execution_count": null,
      "outputs": []
    },
    {
      "cell_type": "code",
      "source": [
        "# Rename education columns\n",
        "rename_DP_cols = {\n",
        "    'Country' : 'country_name',\n",
        "    'Wife earns more than husband' : 'DP_earn_more_p',\n",
        "    'Women who decide themselves how their earnings are used' : 'DP_decide_money_p',\n",
        "    'Do not own a house [Women]' : 'STAT_not_homeowner'\n",
        "}"
      ],
      "metadata": {
        "id": "QkdYP5Fxn_du"
      },
      "execution_count": null,
      "outputs": []
    },
    {
      "cell_type": "code",
      "source": [
        "stat_armenia_DP = stat_armenia_pow.rename(columns=rename_DP_cols)\n",
        "stat_armenia_DP.head()"
      ],
      "metadata": {
        "id": "XMYIDar0n_m-"
      },
      "execution_count": null,
      "outputs": []
    },
    {
      "cell_type": "markdown",
      "source": [
        "### Choose and reorder columns"
      ],
      "metadata": {
        "id": "zHISXBB5hpcv"
      }
    },
    {
      "cell_type": "code",
      "source": [
        "# Now it looks similar to the LivWell data\n",
        "stat_armenia_DP = stat_armenia_DP[['country_name', 'year', 'region', 'DP_earn_more_p', 'DP_decide_money_p', 'STAT_not_homeowner']]\n",
        "stat_armenia_DP.head()"
      ],
      "metadata": {
        "id": "zmUBHxVuhJvd"
      },
      "execution_count": null,
      "outputs": []
    },
    {
      "cell_type": "markdown",
      "source": [
        "## 👍  Now this looks similar to our LivWell data set.\n",
        "* Survey years are numbers (not `2015-2016 DHS`)\n",
        "* Regions are just names (no `' : '`)\n",
        "* Renamed columns of interest"
      ],
      "metadata": {
        "id": "RI27k6mmrI4c"
      }
    },
    {
      "cell_type": "markdown",
      "source": [
        "## Filter LivWell columns to match STAT columns\n",
        "### Get LivWell Aremnia decision and power columns"
      ],
      "metadata": {
        "id": "CHWBGQkF0a63"
      }
    },
    {
      "cell_type": "code",
      "source": [
        "# These are all of the LivWell (lw) decision and power (DP) columns\n",
        "lw_all_pow_cols = livwell_armenia.columns[livwell_armenia.columns.str.contains('DP')].to_list()\n",
        "lw_all_pow_cols"
      ],
      "metadata": {
        "id": "-ZN_n-qfxLXW"
      },
      "execution_count": null,
      "outputs": []
    },
    {
      "cell_type": "code",
      "source": [
        "# Choose columns of interest\n",
        "lw_DP_cols = ['country_name', 'country_code', 'year', 'region_num_harmonized',\n",
        "       'region_name_harmonized', 'DP_earn_more_p', 'DP_owns_house_p','DP_decide_money_p']"
      ],
      "metadata": {
        "id": "HlQVo5Y4k49Z"
      },
      "execution_count": null,
      "outputs": []
    },
    {
      "cell_type": "code",
      "source": [
        "# LivWell data for general and power columns\n",
        "livwell_armenia_DP = livwell_armenia[lw_DP_cols]\n",
        "livwell_armenia_DP"
      ],
      "metadata": {
        "id": "vfXh6LcofJda"
      },
      "execution_count": null,
      "outputs": []
    },
    {
      "cell_type": "code",
      "source": [
        "# Ckeck our columns for our datasets\n",
        "print(stat_armenia_DP.columns)\n",
        "print(livwell_armenia_DP.columns)"
      ],
      "metadata": {
        "id": "SVQkXgJzocoj"
      },
      "execution_count": null,
      "outputs": []
    },
    {
      "cell_type": "markdown",
      "source": [
        "## Get data in the same format to merge on year and region."
      ],
      "metadata": {
        "id": "5KWJI-CD-pgJ"
      }
    },
    {
      "cell_type": "code",
      "source": [
        "# In the LivWell data, the year data is of type int\n",
        "livwell_armenia_DP['year'].dtype"
      ],
      "metadata": {
        "id": "AdgnWkdJtAA0"
      },
      "execution_count": null,
      "outputs": []
    },
    {
      "cell_type": "code",
      "source": [
        "# In the STAT data, the year data is of type object\n",
        "stat_armenia_DP['year'].dtypes"
      ],
      "metadata": {
        "id": "7mQmp5-H4xBZ"
      },
      "execution_count": null,
      "outputs": []
    },
    {
      "cell_type": "code",
      "source": [
        "# Recast the year as an int.  We need to do this to prevent a\n",
        "# ValueError: You are trying to merge on object and int64 columns for key 'year'\n",
        "stat_armenia_DP['year'] = stat_armenia_DP['year'].astype(int)\n",
        "stat_armenia_DP['year'].dtype"
      ],
      "metadata": {
        "id": "EEGTu5lI5B_9"
      },
      "execution_count": null,
      "outputs": []
    },
    {
      "cell_type": "markdown",
      "source": [
        "## 🧩 Merge the data!\n",
        "\n",
        "Choose which variables should be the same.  \n",
        "* On the left (STAT data) those are `country_name`, `region`, and `year`.   \n",
        "* On the right (LivWell data) those are `country_name`, `region_name_harmonized` and `year`.  \n",
        "* For the columns that are the same, the new column names will have a suffix (`_stat, `_lw`) to differentiate."
      ],
      "metadata": {
        "id": "o2HUIVBRxMLK"
      }
    },
    {
      "cell_type": "code",
      "source": [
        "merged_df = stat_armenia_DP.merge(livwell_armenia_DP, left_on=['country_name', 'region', 'year'],\n",
        "            right_on=['country_name', 'region_name_harmonized', 'year'],\n",
        "            suffixes=('_stat', '_lw'))\n",
        "\n",
        "merged_df.columns"
      ],
      "metadata": {
        "id": "9SqrA7yx2IW7"
      },
      "execution_count": null,
      "outputs": []
    },
    {
      "cell_type": "code",
      "source": [
        "merged_df"
      ],
      "metadata": {
        "id": "w9UhKJsUtqaF"
      },
      "execution_count": null,
      "outputs": []
    },
    {
      "cell_type": "markdown",
      "source": [
        "And hopefully they match!   Reorder columns to get a better look.\n",
        "\n",
        "Note that `STAT_owns_house_p` is the inverse of `STAT_not_homeowner`.\n",
        "\n",
        "🔎 More to explore\n",
        "* Can you check to see that `STAT_owns_house_p` and `STAT_not_homeowner` add up to 100%?\n",
        "* Can you upload other STAT files to compare to LivWell?"
      ],
      "metadata": {
        "id": "FYoMjdXN-xAj"
      }
    },
    {
      "cell_type": "code",
      "source": [
        "merged_df[['country_name', 'year', 'region', 'DP_earn_more_p_lw', 'DP_earn_more_p_stat',\n",
        "           'DP_decide_money_p_lw', 'DP_decide_money_p_stat',\n",
        "           'DP_owns_house_p', 'STAT_not_homeowner']]"
      ],
      "metadata": {
        "id": "__Ou8e5T61uG"
      },
      "execution_count": null,
      "outputs": []
    },
    {
      "cell_type": "markdown",
      "source": [
        "## 🌍 Second data source: Global Data Lab Mean International Wealth Index\n",
        "\n",
        "Find this file to upload: `GDL-Mean-International-Wealth-Index-(IWI)-score-of-region-data.csv`\n"
      ],
      "metadata": {
        "id": "x715ttFdzxZb"
      }
    },
    {
      "cell_type": "code",
      "source": [
        "uploaded = files.upload()"
      ],
      "metadata": {
        "id": "K6XJOvaio9wA"
      },
      "execution_count": null,
      "outputs": []
    },
    {
      "cell_type": "code",
      "source": [
        "gdl = pd.read_csv(\"GDL-Mean-International-Wealth-Index-(IWI)-score-of-region-data.csv\")\n",
        "gdl"
      ],
      "metadata": {
        "id": "51Sq7kUE4ZtP"
      },
      "execution_count": null,
      "outputs": []
    },
    {
      "cell_type": "code",
      "source": [
        "gdl_armenia = gdl[gdl['Country'] == \"Armenia\"]"
      ],
      "metadata": {
        "id": "5otgAO8vxd5j"
      },
      "execution_count": null,
      "outputs": []
    },
    {
      "cell_type": "code",
      "source": [
        "# Drop the years with NaN values\n",
        "# The years that are left are similar to our LivWell data\n",
        "gdl_armenia_years = gdl_armenia.dropna(axis=1)\n",
        "gdl_armenia_years"
      ],
      "metadata": {
        "id": "GEeudHoMIVs2"
      },
      "execution_count": null,
      "outputs": []
    },
    {
      "cell_type": "code",
      "source": [
        "# Keep rows where Region is not 'Total'\n",
        "gdl_armenia_years = gdl_armenia_years[gdl_armenia_years['Region'] != 'Total']\n",
        "print(gdl_armenia_years.columns)\n",
        "\n",
        "# Reorder columns\n",
        "gdl_armenia_years = gdl_armenia_years[['Country', 'ISO_Code', 'GDLCODE',\t'Region', '2000', '2010', '2016']]\n",
        "gdl_armenia_years"
      ],
      "metadata": {
        "id": "hOavqgtHpHMG"
      },
      "execution_count": null,
      "outputs": []
    },
    {
      "cell_type": "markdown",
      "source": [
        "## 🧊 DataFrame melt\n",
        "\n",
        "This transformation changes our \"wide\" dataframe to a \"long\" format.  It returns an \"unpivoted\" datafrrame.  \n",
        "\n",
        "We will melt our dataframe and then create a scatter plot.\n",
        "\n",
        "<img src=\"https://pandas.pydata.org/pandas-docs/version/0.25.1/_images/reshaping_melt.png\" width=800>\n",
        "\n",
        "\n",
        "Figure from [pandas.pydata.org](https://pandas.pydata.org/pandas-docs/version/0.25.1/user_guide/reshaping.html#reshaping-by-melt)"
      ],
      "metadata": {
        "id": "0WjLm0kdRaHH"
      }
    },
    {
      "cell_type": "code",
      "source": [
        "# In the melt command, the id_vars are the ones to keep as identifiers\n",
        "# The var_name year gets added into every row\n",
        "# The value_name is the International Wealth Index\n",
        "gdl_armenia_melt = gdl_armenia_years.melt(id_vars=['Country', 'ISO_Code','GDLCODE', 'Region'], var_name='Year', value_name='IWI')\n",
        "gdl_armenia_melt"
      ],
      "metadata": {
        "id": "FdgcUQ4B2_qj"
      },
      "execution_count": null,
      "outputs": []
    },
    {
      "cell_type": "markdown",
      "source": [
        "### 📅 Include columns that are years by checking to see that they are numerical."
      ],
      "metadata": {
        "id": "9CB2FBPLMmSx"
      }
    },
    {
      "cell_type": "code",
      "source": [
        "gdl_year_cols = [x for x in gdl.columns if str.isdigit(x)]\n",
        "gdl_year_cols"
      ],
      "metadata": {
        "id": "ZWm-KKht322W"
      },
      "execution_count": null,
      "outputs": []
    },
    {
      "cell_type": "code",
      "source": [
        "# Include these columns in the data\n",
        "gdl_data = gdl[['Country', 'GDLCODE'] + gdl_year_cols]\n",
        "gdl_data"
      ],
      "metadata": {
        "id": "KAmtBL3G7ATn"
      },
      "execution_count": null,
      "outputs": []
    },
    {
      "cell_type": "markdown",
      "source": [
        "### Melt the whole GDL data to move years into one column\n",
        "\n",
        "🔎 More to explore: How can you combine the GDL dataset with the LivWell and STAT datasets?"
      ],
      "metadata": {
        "id": "KjEb0_42NOam"
      }
    },
    {
      "cell_type": "code",
      "source": [
        "gdl_melt = gdl.melt(id_vars=['Country', 'ISO_Code','GDLCODE', 'Region'], var_name='Year', value_name='IWI')\n",
        "gdl_melt"
      ],
      "metadata": {
        "id": "hYdvaPCI3YN8"
      },
      "execution_count": null,
      "outputs": []
    },
    {
      "cell_type": "markdown",
      "source": [
        "### Filter the data for plotting\n",
        "Choose to include only include regional data. Drop data that has the string 'Level' in the Year column"
      ],
      "metadata": {
        "id": "GrVunjSNcDyu"
      }
    },
    {
      "cell_type": "code",
      "source": [
        "gdl_region = gdl_melt.drop(columns='Region')\n",
        "gdl_region = gdl_region[~((gdl_region['Year'] == 'Level') | (gdl_region['IWI'] == 'National'))]\n",
        "gdl_region"
      ],
      "metadata": {
        "id": "ZH3FMmOm7w1q"
      },
      "execution_count": null,
      "outputs": []
    },
    {
      "cell_type": "markdown",
      "source": [
        "# 📊 3. Data visualization\n",
        "Plot a subset of countries"
      ],
      "metadata": {
        "id": "lSN1Ra5PVjIK"
      }
    },
    {
      "cell_type": "code",
      "source": [
        "livwell_gdl_subset = ['Armenia', 'Burundi', 'Cambodia', 'Dominican Republic', 'El Salvador',\n",
        "                      'Fiji', 'Gabon', 'Haiti', 'Tanzania', 'Turkey', 'Yemen', 'Zimbabwe']\n",
        "livwell_gdl_countries = set(livwell_df['country_name']) & set(gdl_melt['Country'])\n",
        "\n",
        "print(\"Countries in LivWell and GDL datasets: \", len(livwell_gdl_countries))\n",
        "print(\"Number of subset countries: \", len(livwell_gdl_subset))"
      ],
      "metadata": {
        "id": "-I2iPEwUTrgk"
      },
      "execution_count": null,
      "outputs": []
    },
    {
      "cell_type": "markdown",
      "source": [
        "### Finding non null data"
      ],
      "metadata": {
        "id": "j2d1NRuTWLmI"
      }
    },
    {
      "cell_type": "code",
      "source": [
        "#Check if there is data for a year that is not null.\n",
        "gdl_region[(gdl_region['Year'] == '1992') & (gdl_region['IWI'].notna())]\n",
        "print(gdl_region.head(10))"
      ],
      "metadata": {
        "id": "AkWq9oLoVyEq"
      },
      "execution_count": null,
      "outputs": []
    },
    {
      "cell_type": "markdown",
      "source": [
        "## Create a scatter plot of the IWI by year and colored by country."
      ],
      "metadata": {
        "id": "FrnYc2k2bnvW"
      }
    },
    {
      "cell_type": "code",
      "source": [
        "import plotly.express as px\n",
        "\n",
        "gdl_subset = ['Armenia', 'Burundi', 'Cambodia', 'Dominican Republic', 'El Salvador',\n",
        "              'Fiji', 'Gabon', 'Haiti', 'Tanzania', 'Turkey', 'Yemen', 'Zimbabwe']\n",
        "gdl_subset_data = gdl_region[gdl_region['Country'].isin(livwell_gdl_subset)]\n",
        "fig = px.scatter(gdl_subset_data, x=\"Year\", y=\"IWI\", color=\"Country\")\n",
        "fig.show()"
      ],
      "metadata": {
        "id": "pz-oTyEFq3JX"
      },
      "execution_count": null,
      "outputs": []
    },
    {
      "cell_type": "markdown",
      "source": [
        "# 🗺️ More to explore\n",
        "\n",
        "The authors incorporated many  approaches in their work including:\n",
        "\n",
        "* Analysis in R.  Check out their <a href=\"https://gitlab.pik-potsdam.de/belmin/livwelldata\">LivWell R repository</a>. They linearly interpolated data using the R package `imputeTS`.\n",
        "* Collapsed categories for <a href=\"https://gitlab.pik-potsdam.de/belmin/livwelldata-paper/-/blob/main/analysis/data/raw_data/all_labels_cooking_fuel_completed_coal_as_traditional.csv?ref_type=heads\">modern and traditional cooking fuel</a>\n",
        "  * Modern: electricity, liquefied\n",
        "petroleum gas, natural gas, kerosene and biogas\n",
        "  * Traditional: biomass (firewood, charcoal, agricultural crops, coal)\n",
        "  * This could also be described as recoding, label encoding, or feature engineering\n",
        "* Recoded drinking water quality to low, medium, high quality.  \n",
        "* <a href=\"https://gitlab.pik-potsdam.de/belmin/livwelldata-paper/-/blob/main/analysis/data/derived_data/region_harmonization_files/dhs_region_harmonization.csv?ref_type=heads\">Geographic data</a>. The authors harmonized variables over time and across countries.  "
      ],
      "metadata": {
        "id": "dlacQpIe3QH5"
      }
    },
    {
      "cell_type": "markdown",
      "source": [
        "# 🎉 Takeaways\n",
        "* Learn the context of the data.\n",
        "* Before transforming, have a target usage and format in mind.\n",
        "* You don't need to know all the syntax.  Practice!"
      ],
      "metadata": {
        "id": "T-h20aBpQlG6"
      }
    }
  ]
}